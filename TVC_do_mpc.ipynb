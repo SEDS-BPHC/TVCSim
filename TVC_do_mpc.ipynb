{
 "cells": [
  {
   "cell_type": "markdown",
   "id": "259bd88b",
   "metadata": {},
   "source": [
    "import numpy as np\n",
    "import quaternion"
   ]
  },
  {
   "cell_type": "markdown",
   "id": "23a923d5",
   "metadata": {},
   "source": [
    "T=10\n",
    "d=np.ones(3)\n",
    "F_B=d*T\n",
    "print(F_B.shape)\n",
    "q=np.quaternion(0,4/5,0,3/5)"
   ]
  },
  {
   "cell_type": "markdown",
   "id": "645f6de8",
   "metadata": {},
   "source": [
    "def vec2quat(vec):\n",
    "    return np.quaternion(0,vec[0],vec[1],vec[2])\n",
    "def quat23dvec(quat):\n",
    "    return np.array([quat.x,quat.y,quat.z])\n",
    "def cross_operator(x): #assuming x is shape (1,dim)\n",
    "    ret=np.zeros((x.shape[0],x.shape[0]))\n",
    "    for t in range(x.shape[0]):\n",
    "        ret[t][t]=x[t]\n",
    "    return ret\n",
    "def quat24dvec(x):\n",
    "    return np.array([x.w,x.x,x.y,x.z])\n",
    "def omegaOperator(x):\n",
    "    return np.array([\n",
    "                     [0,-x[0],-x[1],-x[2]],\n",
    "                     [x[0],0,x[2],-x[1]],\n",
    "                     [x[1],-x[2],0,x[0]],\n",
    "                     [x[2],x[1],-x[0],0]])"
   ]
  },
  {
   "cell_type": "markdown",
   "id": "e070d29e",
   "metadata": {},
   "source": [
    "F_N=quat23dvec(q*vec2quat(F_B)*q.conjugate())\n",
    "r=np.ones(3)\n",
    "L_B=np.cross(r,F_B)\n",
    "L_B"
   ]
  },
  {
   "cell_type": "markdown",
   "id": "fff403fb",
   "metadata": {},
   "source": [
    "cross_operator(np.array([1,2,3]))"
   ]
  },
  {
   "cell_type": "markdown",
   "id": "97eb7052",
   "metadata": {},
   "source": [
    "J=np.array([[2,0,0],[0,3,0],[0,0,4]])"
   ]
  },
  {
   "cell_type": "markdown",
   "id": "f8da1757",
   "metadata": {},
   "source": [
    "J_inv=np.linalg.inv(J)\n",
    "w=np.array([1,2,4])\n",
    "w_dot=-J_inv@cross_operator(w)@J@w+J_inv@L_B"
   ]
  },
  {
   "cell_type": "markdown",
   "id": "248e33d0",
   "metadata": {},
   "source": [
    "q_dot=vec2quat(w)*q/2\n",
    "print(q_dot)\n",
    "q_dot=quat24dvec(q_dot)"
   ]
  },
  {
   "cell_type": "markdown",
   "id": "0dedfc40",
   "metadata": {},
   "source": [
    "q_dot"
   ]
  },
  {
   "cell_type": "markdown",
   "id": "9704dc2a",
   "metadata": {},
   "source": []
  },
  {
   "cell_type": "code",
   "execution_count": 1,
   "id": "220263f0",
   "metadata": {},
   "outputs": [],
   "source": [
    "import numpy as np\n",
    "import sys\n",
    "from casadi import *\n",
    "\n",
    "\n",
    "# Import do_mpc package:\n",
    "import do_mpc\n",
    "T=10\n",
    "r=np.array([0,0,-1])"
   ]
  },
  {
   "cell_type": "code",
   "execution_count": 2,
   "id": "6a17d881",
   "metadata": {},
   "outputs": [],
   "source": [
    "model_type = 'discrete' # either 'discrete' or 'continuous'\n",
    "model = do_mpc.model.Model(model_type)"
   ]
  },
  {
   "cell_type": "code",
   "execution_count": 3,
   "id": "30079292",
   "metadata": {},
   "outputs": [],
   "source": [
    "r=model.set_variable('_x','linear',(3))\n",
    "v=model.set_variable('_x','dlinear',(3))\n",
    "m=model.set_variable('_x','mass',(1))\n",
    "q=model.set_variable('_x','attitude',(4))\n",
    "omega=model.set_variable('_x','omega',(3))\n",
    "g=np.array([0,0,-9.81])\n",
    "d=model.set_variable('_u','tvc',(3))\n",
    "# L_B=model.set_variable('_z','torque',(3))\n",
    "# F_N=model.set_variable('_z','force',(3))\n",
    "# J=model.set_variable('_z','Inertia',(3,3))\n",
    "# omega_crap=model.set_variable('_z','omegacrap',(3,3))\n",
    "# omega_ham=model.set_variable('_z','omegaham',(4,4))"
   ]
  },
  {
   "cell_type": "code",
   "execution_count": 4,
   "id": "75854963",
   "metadata": {},
   "outputs": [],
   "source": [
    "F_B=d*T"
   ]
  },
  {
   "cell_type": "code",
   "execution_count": 5,
   "id": "597bd980",
   "metadata": {},
   "outputs": [],
   "source": [
    "F_N=SX.sym('force_in',3)"
   ]
  },
  {
   "cell_type": "code",
   "execution_count": 6,
   "id": "fb3a6601",
   "metadata": {},
   "outputs": [
    {
     "name": "stdout",
     "output_type": "stream",
     "text": [
      "attitude_0\n"
     ]
    }
   ],
   "source": [
    "x,y,z=vertsplit(F_B)\n",
    "qw,qx,qy,qz=vertsplit(q)\n",
    "print(qw)\n",
    "F_N[0] = x*(qx*qx+qw*qw-qy*qy- qz*qz) + y*(2*qx*qy- 2*qw*qz) + z*(2*qx*qz+ 2*qw*qy)\n",
    "F_N[1] = x*(2*qw*qz + 2*qx*qy) + y*(qw*qw - qx*qx+ qy*qy - qz*qz)+ z*(-2*qw*qx+ 2*qy*qz)\n",
    "F_N[2] = x*(-2*qw*qy+ 2*qx*qz) + y*(2*qw*qx+ 2*qy*qz)+ z*(qw*qw - qx*qx- qy*qy+ qz*qz)"
   ]
  },
  {
   "cell_type": "code",
   "execution_count": 7,
   "id": "b73c57de",
   "metadata": {},
   "outputs": [],
   "source": [
    "J=SX.sym('moi',3,3)\n",
    "J[0,0]=10\n",
    "J[1,1]=10\n",
    "J[2,2]=10"
   ]
  },
  {
   "cell_type": "code",
   "execution_count": 8,
   "id": "977972ae",
   "metadata": {},
   "outputs": [],
   "source": [
    "op=SX.sym('op',3,3)\n",
    "op[0,0]=0\n",
    "op[0,1]=-omega[2]\n",
    "op[0,2]=omega[1]\n",
    "op[1,0]=omega[2]\n",
    "op[1,1]=0\n",
    "op[1,2]=-omega[0]\n",
    "op[2,0]=-omega[1]\n",
    "op[2,1]=omega[0]\n",
    "op[2,2]=0"
   ]
  },
  {
   "cell_type": "code",
   "execution_count": 9,
   "id": "ae4c9de8",
   "metadata": {},
   "outputs": [],
   "source": [
    "L_B=cross(r,F_B)"
   ]
  },
  {
   "cell_type": "code",
   "execution_count": 10,
   "id": "26bda38c",
   "metadata": {},
   "outputs": [
    {
     "data": {
      "text/plain": [
       "SX(@1=0, \n",
       "[[@1, (-omega_0), (-omega_1), (-omega_2)], \n",
       " [omega_0, @1, omega_2, (-omega_1)], \n",
       " [omega_1, (-omega_2), @1, omega_0], \n",
       " [omega_2, omega_1, (-omega_0), @1]])"
      ]
     },
     "execution_count": 10,
     "metadata": {},
     "output_type": "execute_result"
    }
   ],
   "source": [
    "oh=SX.sym('oh',4,4)\n",
    "oh[0,0]=0\n",
    "oh[0,1]=-omega[0]\n",
    "oh[0,2]=-omega[1]\n",
    "oh[0,3]=-omega[2]\n",
    "oh[1,0]=omega[0]\n",
    "oh[1,1]=0\n",
    "oh[1,2]=omega[2]\n",
    "oh[1,3]=-omega[1]\n",
    "oh[2,0]=omega[1]\n",
    "oh[2,1]=-omega[2]\n",
    "oh[2,2]=0\n",
    "oh[2,3]=omega[0]\n",
    "oh[3,0]=omega[2]\n",
    "oh[3,1]=omega[1]\n",
    "oh[3,2]=-omega[0]\n",
    "oh[3,3]=0\n",
    "oh"
   ]
  },
  {
   "cell_type": "code",
   "execution_count": 11,
   "id": "fd3da6d8",
   "metadata": {},
   "outputs": [
    {
     "name": "stdout",
     "output_type": "stream",
     "text": [
      "(3, 1)\n"
     ]
    }
   ],
   "source": [
    "J_inv=inv(J)\n",
    "domega=-J_inv@op@J@omega+L_B\n",
    "dq=(oh@q)/2\n",
    "print(domega.shape)"
   ]
  },
  {
   "cell_type": "code",
   "execution_count": 12,
   "id": "d4132f11",
   "metadata": {},
   "outputs": [],
   "source": [
    "dv=(F_N/m)+g"
   ]
  },
  {
   "cell_type": "code",
   "execution_count": 13,
   "id": "8449f0e2",
   "metadata": {},
   "outputs": [],
   "source": [
    "dm=(sqrt(F_B[0]**2+F_B[1]**2+F_B[2]**2))/100 # 100 is I_sp*g_ref"
   ]
  },
  {
   "cell_type": "code",
   "execution_count": 14,
   "id": "a23c4395",
   "metadata": {},
   "outputs": [],
   "source": [
    "model.set_rhs('attitude',dq)\n",
    "model.set_rhs('omega',domega)\n",
    "model.set_rhs('dlinear',dv)\n",
    "model.set_rhs('linear',v)\n",
    "model.set_rhs('mass',dm)"
   ]
  },
  {
   "cell_type": "code",
   "execution_count": 15,
   "id": "d04921d1",
   "metadata": {},
   "outputs": [
    {
     "data": {
      "text/plain": [
       "[{'var_name': 'attitude',\n",
       "  'expr': SX(@1=2, [(-((((omega_0*attitude_1)+(omega_1*attitude_2))+(omega_2*attitude_3))/@1)), ((((omega_0*attitude_0)+(omega_2*attitude_2))-(omega_1*attitude_3))/@1), ((((omega_1*attitude_0)-(omega_2*attitude_1))+(omega_0*attitude_3))/@1), ((((omega_2*attitude_0)+(omega_1*attitude_1))-(omega_0*attitude_2))/@1)])},\n",
       " {'var_name': 'omega',\n",
       "  'expr': SX(@1=10, @2=100, @3=(((@1*(@2-(moi_7*moi_5)))-(moi_3*((@1*moi_1)-(moi_7*moi_2))))+(moi_6*((moi_1*moi_5)-(@1*moi_2)))), @4=(((@1*moi_3)-(moi_6*moi_5))/@3), @5=(((moi_3*moi_7)-(@1*moi_6))/@3), @6=((@4*omega_2)+(@5*omega_1)), @7=((@2-(moi_7*moi_5))/@3), @8=((@7*omega_2)-(@5*omega_0)), @9=((@7*omega_1)+(@4*omega_0)), @10=(@1*tvc_2), @11=(@1*tvc_1), @12=(((@1*moi_7)-(moi_6*moi_1))/@3), @13=(((@1*moi_1)-(moi_7*moi_2))/@3), @14=((@12*omega_0)-(@13*omega_2)), @15=((@2-(moi_6*moi_2))/@3), @16=((@15*omega_2)+(@12*omega_1)), @17=((@13*omega_1)+(@15*omega_0)), @18=(@1*tvc_0), @19=(((@1*moi_5)-(moi_3*moi_2))/@3), @20=((@2-(moi_3*moi_1))/@3), @21=((@19*omega_2)+(@20*omega_1)), @22=(((moi_1*moi_5)-(@1*moi_2))/@3), @23=((@22*omega_2)-(@20*omega_0)), @24=((@22*omega_1)+(@19*omega_0)), [(((((((@1*@6)+(@8*moi_1))-(@9*moi_2))*omega_0)+((((@6*moi_3)+(@1*@8))-(@9*moi_5))*omega_1))+((((@6*moi_6)+(@8*moi_7))-(@1*@9))*omega_2))+((linear_1*@10)-(linear_2*@11))), (((((((@14*moi_1)-(@1*@16))+(@17*moi_2))*omega_0)+((((@1*@14)-(@16*moi_3))+(@17*moi_5))*omega_1))+((((@14*moi_7)-(@16*moi_6))+(@1*@17))*omega_2))+((linear_2*@18)-(linear_0*@10))), (((((((@1*@21)+(@23*moi_1))-(@24*moi_2))*omega_0)+((((@21*moi_3)+(@1*@23))-(@24*moi_5))*omega_1))+((((@21*moi_6)+(@23*moi_7))-(@1*@24))*omega_2))+((linear_0*@11)-(linear_1*@18)))])},\n",
       " {'var_name': 'dlinear',\n",
       "  'expr': SX(@1=10, @2=(@1*tvc_0), @3=(@1*tvc_1), @4=2, @5=(@1*tvc_2), @6=-2, [((((@2*(((sq(attitude_1)+sq(attitude_0))-sq(attitude_2))-sq(attitude_3)))+(@3*(((@4*attitude_1)*attitude_2)-((@4*attitude_0)*attitude_3))))+(@5*(((@4*attitude_1)*attitude_3)+((@4*attitude_0)*attitude_2))))/mass), ((((@2*(((@4*attitude_0)*attitude_3)+((@4*attitude_1)*attitude_2)))+(@3*(((sq(attitude_0)-sq(attitude_1))+sq(attitude_2))-sq(attitude_3))))+(@5*(((@6*attitude_0)*attitude_1)+((@4*attitude_2)*attitude_3))))/mass), (((((@2*(((@6*attitude_0)*attitude_2)+((@4*attitude_1)*attitude_3)))+(@3*(((@4*attitude_0)*attitude_1)+((@4*attitude_2)*attitude_3))))+(@5*(((sq(attitude_0)-sq(attitude_1))-sq(attitude_2))+sq(attitude_3))))/mass)+-9.81)])},\n",
       " {'var_name': 'linear', 'expr': SX([dlinear_0, dlinear_1, dlinear_2])},\n",
       " {'var_name': 'mass',\n",
       "  'expr': SX(@1=10, (sqrt(((sq((@1*tvc_0))+sq((@1*tvc_1)))+sq((@1*tvc_2))))/100))}]"
      ]
     },
     "execution_count": 15,
     "metadata": {},
     "output_type": "execute_result"
    }
   ],
   "source": [
    "model.rhs_list"
   ]
  },
  {
   "cell_type": "code",
   "execution_count": 16,
   "id": "41501f70",
   "metadata": {},
   "outputs": [],
   "source": [
    "model.setup()"
   ]
  },
  {
   "cell_type": "code",
   "execution_count": null,
   "id": "1b141972",
   "metadata": {},
   "outputs": [],
   "source": []
  },
  {
   "cell_type": "code",
   "execution_count": null,
   "id": "e686499b",
   "metadata": {},
   "outputs": [],
   "source": []
  }
 ],
 "metadata": {
  "kernelspec": {
   "display_name": "Python 3 (ipykernel)",
   "language": "python",
   "name": "python3"
  },
  "language_info": {
   "codemirror_mode": {
    "name": "ipython",
    "version": 3
   },
   "file_extension": ".py",
   "mimetype": "text/x-python",
   "name": "python",
   "nbconvert_exporter": "python",
   "pygments_lexer": "ipython3",
   "version": "3.9.2"
  }
 },
 "nbformat": 4,
 "nbformat_minor": 5
}
